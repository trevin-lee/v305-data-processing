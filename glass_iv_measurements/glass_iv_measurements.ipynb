{
 "cells": [
  {
   "cell_type": "code",
   "execution_count": 1,
   "metadata": {},
   "outputs": [],
   "source": [
    "import pandas as pd\n",
    "import numpy as np\n",
    "import matplotlib.pyplot as plt\n",
    "from pathlib import Path\n",
    "import itertools\n",
    "\n",
    "\n",
    "from utilities.constants import *\n",
    "from utilities.functions import *\n"
   ]
  },
  {
   "cell_type": "code",
   "execution_count": 2,
   "metadata": {},
   "outputs": [
    {
     "name": "stdout",
     "output_type": "stream",
     "text": [
      "Folder structure in MEASURED_DATA_DIR:\n",
      "└── Glass-IV-VC_CC/\n",
      "  └── CC/\n",
      "    └── CC/\n",
      "    └── dev-B1/\n",
      "    └── dev-B10/\n",
      "    └── dev-B2/\n",
      "    └── dev-G2/\n",
      "  └── VC/\n",
      "    └── VC/\n",
      "    └── dev-B1/\n",
      "    └── dev-B10/\n",
      "  └── dev-B11-RT/\n",
      "  └── test-both/\n",
      "└── Oscilloscope - V3O5/\n",
      "  └── delay-geometry/\n",
      "  └── dev-F3/\n",
      "  └── dev-e11-correct/\n",
      "  └── dev-e12/\n",
      "  └── this is e10/\n"
     ]
    }
   ],
   "source": [
    "print(\"Folder structure in MEASURED_DATA_DIR:\")\n",
    "list_folders_recursively(MEASURED_DATA_DIR)"
   ]
  },
  {
   "cell_type": "markdown",
   "metadata": {},
   "source": [
    "## Glass IV Measurements"
   ]
  },
  {
   "cell_type": "code",
   "execution_count": 3,
   "metadata": {},
   "outputs": [
    {
     "name": "stdout",
     "output_type": "stream",
     "text": [
      "Number of files loaded in CC directory: 71\n",
      "Number of files loaded in VC directory: 86\n",
      "Number of files loaded in dev-B11-RT directory: 1\n",
      "Number of files loaded in test-both directory: 4\n",
      "\n",
      "Sample of first dataframe from each directory:\n",
      "\n",
      "CC directory first dataframe columns:\n",
      "Index(['Current (A)', 'Volatge (V)', 'Resistance (Ohm)', 'Time (sec)'], dtype='object')\n",
      "\n",
      "VC directory first dataframe columns:\n",
      "Index(['Voltage (V)', 'Current (A)', 'Resistance (Ohm)', 'Time (sec)'], dtype='object')\n",
      "\n",
      "dev-B11-RT directory first dataframe columns:\n",
      "Index(['Temperature', 'Resistance', 'Time', 'Current', 'V+', 'V-', 'T+', 'T-'], dtype='object')\n",
      "\n",
      "test-both directory first dataframe columns:\n",
      "Index(['Current', 'Voltage', 'Resistance', 'Time', 'Temperature'], dtype='object')\n"
     ]
    }
   ],
   "source": [
    "\n",
    "# Plot style settings\n",
    "plt.style.use('seaborn-v0_8-darkgrid')\n",
    "DEFAULT_FIG_SIZE = (12, 8)\n",
    "DEFAULT_FONT_SIZE = 12\n",
    "DEFAULT_LINE_WIDTH = 2\n",
    "DEFAULT_MARKER_SIZE = 6\n",
    "\n",
    "# Color settings\n",
    "COLOR_CYCLE = plt.rcParams['axes.prop_cycle'].by_key()['color']\n",
    "DEFAULT_ALPHA = 0.7\n",
    "\n",
    "# Plot formatting\n",
    "TITLE_FONT_SIZE = 16\n",
    "LABEL_FONT_SIZE = 14\n",
    "TICK_FONT_SIZE = 12\n",
    "LEGEND_FONT_SIZE = 12\n",
    "\n",
    "# File naming\n",
    "PLOT_FILE_EXTENSION = '.png'\n",
    "PLOT_DPI = 300\n",
    "\n",
    "\n",
    "cc_data = load_data_from_directory(os.path.join(GLASS_IV_DATA_DIR, 'CC'))\n",
    "vc_data = load_data_from_directory(os.path.join(GLASS_IV_DATA_DIR, 'VC'))\n",
    "dev_b11_rt_data = load_data_from_directory(os.path.join(GLASS_IV_DATA_DIR, 'dev-B11-RT'))\n",
    "test_both_data = load_data_from_directory(os.path.join(GLASS_IV_DATA_DIR, 'test-both'))\n",
    "\n",
    "print(f\"Number of files loaded in CC directory: {len(cc_data)}\")\n",
    "print(f\"Number of files loaded in VC directory: {len(vc_data)}\")\n",
    "print(f\"Number of files loaded in dev-B11-RT directory: {len(dev_b11_rt_data)}\")\n",
    "print(f\"Number of files loaded in test-both directory: {len(test_both_data)}\")\n",
    "\n",
    "print(\"\\nSample of first dataframe from each directory:\")\n",
    "\n",
    "folder_name_data = {\n",
    "    \"CC\": cc_data,\n",
    "    \"VC\": vc_data,\n",
    "    \"dev-B11-RT\": dev_b11_rt_data,\n",
    "    \"test-both\": test_both_data\n",
    "}\n",
    "\n",
    "# Print all columns for each dataframe\n",
    "for name, data_list in folder_name_data.items():\n",
    "    if data_list:\n",
    "        print(f\"\\n{name} directory first dataframe columns:\")\n",
    "        print(data_list[0].columns)\n",
    "    else:\n",
    "        print(f\"\\n{name} directory: No data loaded\")"
   ]
  },
  {
   "cell_type": "code",
   "execution_count": 4,
   "metadata": {},
   "outputs": [],
   "source": [
    "\n",
    "def create_combination_plots(data_list, folder_name, output_dir):\n",
    "    if not data_list:\n",
    "        print(f\"No data available for {folder_name}\")\n",
    "        return\n",
    "    \n",
    "    columns = data_list[0].columns\n",
    "    column_permutations = list(itertools.permutations(columns, 2))\n",
    "    \n",
    "    # Convert output_dir to Path if it's a string\n",
    "    output_dir = Path(output_dir) if isinstance(output_dir, str) else output_dir\n",
    "    dataset_dir = output_dir / folder_name\n",
    "    dataset_dir.mkdir(exist_ok=True)\n",
    "    \n",
    "    for x_col, y_col in column_permutations:\n",
    "        plt.figure(figsize=DEFAULT_FIG_SIZE)\n",
    "        \n",
    "        for i, df in enumerate(data_list):\n",
    "            plt.plot(df[x_col], df[y_col], \n",
    "                    linewidth=DEFAULT_LINE_WIDTH,\n",
    "                    alpha=DEFAULT_ALPHA,\n",
    "                    label=f'File {i+1}')\n",
    "        \n",
    "        plt.title(f'{y_col} vs {x_col} - {folder_name}',\n",
    "                 fontsize=TITLE_FONT_SIZE)\n",
    "        plt.xlabel(x_col, fontsize=LABEL_FONT_SIZE)\n",
    "        plt.ylabel(y_col, fontsize=LABEL_FONT_SIZE)\n",
    "        plt.xticks(fontsize=TICK_FONT_SIZE)\n",
    "        plt.yticks(fontsize=TICK_FONT_SIZE)\n",
    "        \n",
    "        filename = f\"{x_col}_vs_{y_col}{PLOT_FILE_EXTENSION}\"\n",
    "        plt.savefig(dataset_dir / filename, dpi=PLOT_DPI, bbox_inches='tight')\n",
    "        plt.close()\n",
    "\n",
    "def plot_all_data(dataset_dict, output_dir):\n",
    "    # Convert output_dir to Path if it's a string\n",
    "    output_dir = Path(output_dir) if isinstance(output_dir, str) else output_dir\n",
    "    \n",
    "    for folder_name, data_list in dataset_dict.items():\n",
    "        print(f\"Creating plots for {folder_name}...\")\n",
    "        create_combination_plots(data_list, folder_name, output_dir)\n",
    "        print(f\"Completed plots for {folder_name}\") "
   ]
  },
  {
   "cell_type": "code",
   "execution_count": 5,
   "metadata": {},
   "outputs": [
    {
     "name": "stdout",
     "output_type": "stream",
     "text": [
      "Creating plots for CC...\n",
      "Completed plots for CC\n",
      "Creating plots for VC...\n",
      "Completed plots for VC\n",
      "Creating plots for dev-B11-RT...\n",
      "Completed plots for dev-B11-RT\n",
      "Creating plots for test-both...\n",
      "Completed plots for test-both\n"
     ]
    }
   ],
   "source": [
    "plot_all_data(folder_name_data, f'{IMAGES_DATA_DIR}/glass_iv_plots')"
   ]
  }
 ],
 "metadata": {
  "kernelspec": {
   "display_name": "default",
   "language": "python",
   "name": "python3"
  },
  "language_info": {
   "codemirror_mode": {
    "name": "ipython",
    "version": 3
   },
   "file_extension": ".py",
   "mimetype": "text/x-python",
   "name": "python",
   "nbconvert_exporter": "python",
   "pygments_lexer": "ipython3",
   "version": "3.12.2"
  }
 },
 "nbformat": 4,
 "nbformat_minor": 2
}
