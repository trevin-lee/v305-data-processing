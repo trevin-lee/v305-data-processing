{
 "cells": [
  {
   "cell_type": "code",
   "execution_count": 1,
   "metadata": {},
   "outputs": [],
   "source": [
    "import pandas as pd\n",
    "import numpy as np\n",
    "import matplotlib.pyplot as plt\n",
    "import re\n",
    "import random\n",
    "import string\n",
    "\n",
    "from tqdm import tqdm\n",
    "from pathlib import Path\n",
    "\n"
   ]
  },
  {
   "cell_type": "code",
   "execution_count": 2,
   "metadata": {},
   "outputs": [],
   "source": [
    "RAW_DATA_DIR = Path(\"./data/raw\")\n",
    "PROCESSED_DATA_DIR = Path(\"./data/processed\")\n",
    "IMAGES_DIR = Path(\"./images\")"
   ]
  },
  {
   "cell_type": "code",
   "execution_count": 3,
   "metadata": {},
   "outputs": [],
   "source": [
    "def cleaned_dataframe(csv_path: Path, skiprows: int) -> pd.DataFrame:\n",
    "    \"\"\"Return dataframe that starts at TIME row and only keeps TIME + CH1-4.\"\"\"\n",
    "\n",
    "    df = pd.read_csv(csv_path, skiprows=skiprows, header=None, low_memory=False)\n",
    "\n",
    "    header_row = 1 if str(df.iloc[0, 0]).strip().upper() == \"LABELS\" else 0\n",
    "    header     = df.iloc[header_row]               \n",
    "    df         = df[(header_row + 1):]       \n",
    "    df.columns = header\n",
    "\n",
    "    wanted = [\"TIME\", \"CH1\", \"CH2\", \"CH3\", \"CH4\"]\n",
    "    df = df[wanted].apply(pd.to_numeric, errors=\"coerce\")\n",
    "    return df\n",
    "\n",
    "def new_filename(old_name: str) -> str:\n",
    "    \"\"\"\n",
    "    'ges1343-dev-e11-0.8kohm-10nF-300K-1.050V_after_cycles_002_ALL.csv'\n",
    "        → 'A7K3-e11-0.8kOhm-10nF-300K-1.050V.csv'\n",
    "    \"\"\"\n",
    "    stem   = Path(old_name).stem\n",
    "    parts  = stem.split(\"-\")     \n",
    "\n",
    "    core   = parts[2:7]\n",
    "    core[-1] = core[-1].split(\"_\", 1)[0] \n",
    "\n",
    "    core = [re.sub(r\"kohm\", \"kOhm\", p, flags=re.I) for p in core]\n",
    "    rand  = \"\".join(random.choices(string.ascii_uppercase + string.digits, k=4))\n",
    "\n",
    "    return f\"{rand}-{'-'.join(core)}.csv\""
   ]
  },
  {
   "cell_type": "code",
   "execution_count": null,
   "metadata": {},
   "outputs": [
    {
     "name": "stderr",
     "output_type": "stream",
     "text": [
      "Processing CSVs:  66%|██████▌   | 119/180 [09:41<04:02,  3.97s/file]"
     ]
    }
   ],
   "source": [
    "errors = []                            \n",
    "all_csvs = list(RAW_DATA_DIR.rglob(\"*.csv\"))\n",
    "\n",
    "for raw_csv in tqdm(all_csvs, desc=\"Processing CSVs\", unit=\"file\"):\n",
    "    try:\n",
    "        df = cleaned_dataframe(raw_csv, 16)\n",
    "\n",
    "        rel_path   = raw_csv.relative_to(RAW_DATA_DIR)\n",
    "        out_folder = PROCESSED_DATA_DIR / rel_path.parent\n",
    "        out_folder.mkdir(parents=True, exist_ok=True)\n",
    "\n",
    "        out_file = out_folder / new_filename(raw_csv.name)\n",
    "        df.to_csv(out_file, index=False)\n",
    "    except Exception as err:\n",
    "        errors.append((raw_csv, err))   \n",
    "\n",
    "if errors:\n",
    "    for raw_csv, err in errors:\n",
    "        print(f\"{raw_csv}  →  {err}\")\n",
    "else:\n",
    "    print(\"\\nAll files processed without errors\")"
   ]
  }
 ],
 "metadata": {
  "kernelspec": {
   "display_name": "default",
   "language": "python",
   "name": "python3"
  },
  "language_info": {
   "codemirror_mode": {
    "name": "ipython",
    "version": 3
   },
   "file_extension": ".py",
   "mimetype": "text/x-python",
   "name": "python",
   "nbconvert_exporter": "python",
   "pygments_lexer": "ipython3",
   "version": "3.12.2"
  }
 },
 "nbformat": 4,
 "nbformat_minor": 2
}
