{
 "cells": [
  {
   "cell_type": "code",
   "execution_count": 1,
   "metadata": {},
   "outputs": [],
   "source": [
    "from pathlib import Path\n",
    "import pandas as pd\n",
    "import matplotlib.pyplot as plt\n",
    "from itertools import combinations\n",
    "from tqdm import tqdm"
   ]
  },
  {
   "cell_type": "code",
   "execution_count": 2,
   "metadata": {},
   "outputs": [],
   "source": [
    "RAW_DATA_DIR = Path(\"./data/raw\")\n",
    "PROCESSED_DATA_DIR = Path(\"./data/processed\")\n",
    "IMAGES_DIR = Path(\"./images\")"
   ]
  },
  {
   "cell_type": "code",
   "execution_count": null,
   "metadata": {},
   "outputs": [
    {
     "name": "stderr",
     "output_type": "stream",
     "text": [
      "dev-e12: 21pair [00:19,  1.06pair/s]\n",
      "dev-e10: 21pair [01:00,  2.90s/pair]\n",
      "dev-e11: 8pair [00:30,  4.34s/pair]"
     ]
    }
   ],
   "source": [
    "for device_dir in PROCESSED_DATA_DIR.iterdir():\n",
    "    if not device_dir.is_dir():\n",
    "        continue                   \n",
    "\n",
    "    csv_files = list(device_dir.glob(\"*.csv\"))\n",
    "    if not csv_files:\n",
    "        continue\n",
    "\n",
    "    dfs = {csv: pd.read_csv(csv) for csv in csv_files}\n",
    "\n",
    "    cols = list(next(iter(dfs.values())).columns)\n",
    "\n",
    "    out_dir = IMAGES_DIR / device_dir.name\n",
    "    out_dir.mkdir(parents=True, exist_ok=True)\n",
    "\n",
    "    for x, y in tqdm(combinations(cols, 2),      \n",
    "                     desc=device_dir.name, unit=\"pair\"):\n",
    "        fig, ax = plt.subplots()\n",
    "\n",
    "        for df in dfs.values():                   \n",
    "            ax.plot(df[x], df[y])\n",
    "\n",
    "        ax.set_xlabel(x)\n",
    "        ax.set_ylabel(y)\n",
    "        ax.set_title(f\"{y} vs {x}\")         \n",
    "        ax.grid(True)\n",
    "\n",
    "        fname = f\"{x}_vs_{y}.png\".replace(\" \", \"\")\n",
    "        fig.savefig(out_dir / fname, dpi=300, bbox_inches=\"tight\")\n",
    "        plt.close(fig)"
   ]
  }
 ],
 "metadata": {
  "kernelspec": {
   "display_name": "default",
   "language": "python",
   "name": "python3"
  },
  "language_info": {
   "codemirror_mode": {
    "name": "ipython",
    "version": 3
   },
   "file_extension": ".py",
   "mimetype": "text/x-python",
   "name": "python",
   "nbconvert_exporter": "python",
   "pygments_lexer": "ipython3",
   "version": "3.12.2"
  }
 },
 "nbformat": 4,
 "nbformat_minor": 2
}
