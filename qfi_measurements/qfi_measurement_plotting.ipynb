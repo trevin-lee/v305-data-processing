{
 "cells": [
  {
   "cell_type": "markdown",
   "metadata": {},
   "source": [
    "# QFI Measurement Plotting"
   ]
  },
  {
   "cell_type": "code",
   "execution_count": 1,
   "metadata": {},
   "outputs": [],
   "source": [
    "import numpy as np\n",
    "import matplotlib.pyplot as plt\n",
    "import pandas as pd\n",
    "import matplotlib.animation as animation\n"
   ]
  },
  {
   "cell_type": "code",
   "execution_count": 2,
   "metadata": {},
   "outputs": [
    {
     "ename": "FileNotFoundError",
     "evalue": "[Errno 2] No such file or directory: '/Users/trevin/Documents/Git/v3o5-data-processing/data/measured/QFI-measurements/04,04,2025_174617_1x MWIR_Movie_CSV.txt'",
     "output_type": "error",
     "traceback": [
      "\u001b[0;31m---------------------------------------------------------------------------\u001b[0m",
      "\u001b[0;31mFileNotFoundError\u001b[0m                         Traceback (most recent call last)",
      "Cell \u001b[0;32mIn[2], line 2\u001b[0m\n\u001b[1;32m      1\u001b[0m filename \u001b[38;5;241m=\u001b[39m \u001b[38;5;124m'\u001b[39m\u001b[38;5;124m/Users/trevin/Documents/Git/v3o5-data-processing/data/measured/QFI-measurements/04,04,2025_174617_1x MWIR_Movie_CSV.txt\u001b[39m\u001b[38;5;124m'\u001b[39m\n\u001b[0;32m----> 2\u001b[0m \u001b[38;5;28;01mwith\u001b[39;00m \u001b[38;5;28;43mopen\u001b[39;49m\u001b[43m(\u001b[49m\u001b[43mfilename\u001b[49m\u001b[43m,\u001b[49m\u001b[43m \u001b[49m\u001b[38;5;124;43m'\u001b[39;49m\u001b[38;5;124;43mr\u001b[39;49m\u001b[38;5;124;43m'\u001b[39;49m\u001b[43m)\u001b[49m \u001b[38;5;28;01mas\u001b[39;00m f:\n\u001b[1;32m      3\u001b[0m     lines \u001b[38;5;241m=\u001b[39m f\u001b[38;5;241m.\u001b[39mreadlines()\n\u001b[1;32m      5\u001b[0m metadata \u001b[38;5;241m=\u001b[39m {}\n",
      "File \u001b[0;32m~/miniconda3/envs/default/lib/python3.12/site-packages/IPython/core/interactiveshell.py:324\u001b[0m, in \u001b[0;36m_modified_open\u001b[0;34m(file, *args, **kwargs)\u001b[0m\n\u001b[1;32m    317\u001b[0m \u001b[38;5;28;01mif\u001b[39;00m file \u001b[38;5;129;01min\u001b[39;00m {\u001b[38;5;241m0\u001b[39m, \u001b[38;5;241m1\u001b[39m, \u001b[38;5;241m2\u001b[39m}:\n\u001b[1;32m    318\u001b[0m     \u001b[38;5;28;01mraise\u001b[39;00m \u001b[38;5;167;01mValueError\u001b[39;00m(\n\u001b[1;32m    319\u001b[0m         \u001b[38;5;124mf\u001b[39m\u001b[38;5;124m\"\u001b[39m\u001b[38;5;124mIPython won\u001b[39m\u001b[38;5;124m'\u001b[39m\u001b[38;5;124mt let you open fd=\u001b[39m\u001b[38;5;132;01m{\u001b[39;00mfile\u001b[38;5;132;01m}\u001b[39;00m\u001b[38;5;124m by default \u001b[39m\u001b[38;5;124m\"\u001b[39m\n\u001b[1;32m    320\u001b[0m         \u001b[38;5;124m\"\u001b[39m\u001b[38;5;124mas it is likely to crash IPython. If you know what you are doing, \u001b[39m\u001b[38;5;124m\"\u001b[39m\n\u001b[1;32m    321\u001b[0m         \u001b[38;5;124m\"\u001b[39m\u001b[38;5;124myou can use builtins\u001b[39m\u001b[38;5;124m'\u001b[39m\u001b[38;5;124m open.\u001b[39m\u001b[38;5;124m\"\u001b[39m\n\u001b[1;32m    322\u001b[0m     )\n\u001b[0;32m--> 324\u001b[0m \u001b[38;5;28;01mreturn\u001b[39;00m \u001b[43mio_open\u001b[49m\u001b[43m(\u001b[49m\u001b[43mfile\u001b[49m\u001b[43m,\u001b[49m\u001b[43m \u001b[49m\u001b[38;5;241;43m*\u001b[39;49m\u001b[43margs\u001b[49m\u001b[43m,\u001b[49m\u001b[43m \u001b[49m\u001b[38;5;241;43m*\u001b[39;49m\u001b[38;5;241;43m*\u001b[39;49m\u001b[43mkwargs\u001b[49m\u001b[43m)\u001b[49m\n",
      "\u001b[0;31mFileNotFoundError\u001b[0m: [Errno 2] No such file or directory: '/Users/trevin/Documents/Git/v3o5-data-processing/data/measured/QFI-measurements/04,04,2025_174617_1x MWIR_Movie_CSV.txt'"
     ]
    }
   ],
   "source": [
    "filename = '/Users/trevin/Documents/Git/v3o5-data-processing/data/measured/QFI-measurements/04,04,2025_174617_1x MWIR_Movie_CSV.txt'\n",
    "with open(filename, 'r') as f:\n",
    "    lines = f.readlines()\n",
    "\n",
    "metadata = {}\n",
    "data_lines = []\n",
    "\n",
    "# Parse metadata lines (starting with \"#\") and pixel data lines.\n",
    "for line in lines:\n",
    "    line = line.strip()\n",
    "    if line.startswith(\"#\"):\n",
    "        parts = line[1:].split(\":\", 1)\n",
    "        if len(parts) == 2:\n",
    "            key, value = parts[0].strip(), parts[1].strip()\n",
    "            metadata[key] = value\n",
    "    elif line:\n",
    "        data_lines.append(line)\n",
    "\n",
    "# Print parsed metadata for verification.\n",
    "print(\"Parsed Metadata:\")\n",
    "for key, value in metadata.items():\n",
    "    print(f\"{key}: {value}\")\n",
    "\n",
    "# Concatenate all pixel data lines into a single string and split by commas.\n",
    "data_string = \"\".join(data_lines)\n",
    "pixel_strings = [s for s in data_string.split(\",\") if s]\n",
    "pixels = np.array(list(map(float, pixel_strings)))\n",
    "\n",
    "# --------------------------\n",
    "# Use metadata for dimensions and frame count\n",
    "# --------------------------\n",
    "width  = int(metadata.get('Width', 640))\n",
    "height = int(metadata.get('Height', 512))\n",
    "frames = int(metadata.get('Frames', 3))\n",
    "\n",
    "expected_pixels = width * height * frames\n",
    "\n",
    "print(f\"Expected pixels (Width x Height x Frames): {width} x {height} x {frames} = {expected_pixels}\")\n",
    "print(f\"Total pixels found in file: {pixels.size}\")\n",
    "\n",
    "if pixels.size != expected_pixels:\n",
    "    print(f\"Warning: pixel count ({pixels.size}) does not match expected size ({expected_pixels}).\")\n",
    "\n",
    "# Reshape pixel values into a 3D array with shape (frames, height, width)\n",
    "pixel_frames = pixels.reshape((frames, height, width))\n",
    "\n",
    "# Optionally, create a list of Pandas DataFrames (one per frame)\n",
    "dataframes = [pd.DataFrame(frame) for frame in pixel_frames]\n",
    "\n",
    "# --------------------------\n",
    "# Create the animation using matplotlib\n",
    "# --------------------------\n",
    "fig, ax = plt.subplots()\n",
    "im = ax.imshow(pixel_frames[0], cmap='viridis')\n",
    "plt.colorbar(im)\n",
    "\n",
    "def update(frame_index):\n",
    "    \"\"\"Update function for animation; sets the image data for each new frame.\"\"\"\n",
    "    im.set_data(pixel_frames[frame_index])\n",
    "    ax.set_title(f\"Frame {frame_index+1}\")\n",
    "    return [im]\n",
    "\n",
    "ani = animation.FuncAnimation(fig, update, frames=frames, interval=500, blit=False)\n",
    "\n",
    "plt.show()\n",
    "\n",
    "ani.save(\"images/qfi_animation.gif\", writer=\"ffmpeg\", fps=2)\n"
   ]
  }
 ],
 "metadata": {
  "kernelspec": {
   "display_name": "default",
   "language": "python",
   "name": "python3"
  },
  "language_info": {
   "codemirror_mode": {
    "name": "ipython",
    "version": 3
   },
   "file_extension": ".py",
   "mimetype": "text/x-python",
   "name": "python",
   "nbconvert_exporter": "python",
   "pygments_lexer": "ipython3",
   "version": "3.12.2"
  }
 },
 "nbformat": 4,
 "nbformat_minor": 2
}
